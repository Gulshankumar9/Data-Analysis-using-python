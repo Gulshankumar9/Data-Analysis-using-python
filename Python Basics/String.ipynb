{
 "cells": [
  {
   "cell_type": "code",
   "execution_count": 3,
   "metadata": {
    "scrolled": true
   },
   "outputs": [
    {
     "name": "stdout",
     "output_type": "stream",
     "text": [
      "Hello World!   Python Programming\n",
      "H\n",
      "ytho\n"
     ]
    }
   ],
   "source": [
    "var1 = 'Hello World!'\n",
    "var2 = \"Python Programming\"\n",
    "print(var1,\" \",var2)\n",
    "var1 = 'Hello World!'\n",
    "var2 = \"Python Programming\"\n",
    "print (var1[0])\n",
    "print (var2[1:5])"
   ]
  },
  {
   "cell_type": "code",
   "execution_count": 1,
   "metadata": {},
   "outputs": [
    {
     "name": "stdout",
     "output_type": "stream",
     "text": [
      "H\n",
      "ytho\n"
     ]
    }
   ],
   "source": [
    "var1 = 'Hello World!'\n",
    "var2 = \"Python Programming\"\n",
    "\n",
    "print (var1[0])\n",
    "\n",
    "\n",
    "\n",
    "print (var2[1:5])"
   ]
  },
  {
   "cell_type": "code",
   "execution_count": 4,
   "metadata": {},
   "outputs": [
    {
     "name": "stdout",
     "output_type": "stream",
     "text": [
      "Updated String :-  Hello Shabnam\n"
     ]
    }
   ],
   "source": [
    "var1 = 'Hello World!'\n",
    "print (\"Updated String :- \", var1[0:6] + 'Shabnam')"
   ]
  },
  {
   "cell_type": "code",
   "execution_count": 6,
   "metadata": {
    "scrolled": true
   },
   "outputs": [
    {
     "name": "stdout",
     "output_type": "stream",
     "text": [
      "Updated String :-  Hello Gulshan\n",
      "Please Enter Your Own String : j\n",
      "The Final String : Str2  =  j\n",
      "The Final String : Str3  = =  j\n",
      "The Final String : Str4  = =  \n",
      "str.capitalize() :  This is string example....wow!!!\n"
     ]
    }
   ],
   "source": [
    "var1 = 'Hello World!'\n",
    "print (\"Updated String :- \", var1[0:6] + 'Gulshan')\n",
    "str1 = input(\"Please Enter Your Own String : \")\n",
    "\n",
    "str2 = str1\n",
    "str3 = str1[:]\n",
    "str4 = str1[2:6]\n",
    "\n",
    "print(\"The Final String : Str2  = \", str2)\n",
    "print(\"The Final String : Str3  = = \", str3)\n",
    "print(\"The Final String : Str4  = = \", str4)\n",
    "str = \"this is string example....wow!!!\";\n",
    "print (\"str.capitalize() : \", str.capitalize())"
   ]
  },
  {
   "cell_type": "code",
   "execution_count": 16,
   "metadata": {
    "scrolled": true
   },
   "outputs": [
    {
     "name": "stdout",
     "output_type": "stream",
     "text": [
      "str.capitalize() :  This is string example....wow!!!\n"
     ]
    }
   ],
   "source": [
    "#Python String capitalize() method returns a copy of the string with only its first character capitalized.\n",
    "str = \"this is string example....wow!!!\";\n",
    "print (\"str.capitalize() : \", str.capitalize())"
   ]
  },
  {
   "cell_type": "code",
   "execution_count": 13,
   "metadata": {},
   "outputs": [
    {
     "name": "stdout",
     "output_type": "stream",
     "text": [
      "str.center(40, 'a') :  ****this is string example....wow!!!****\n"
     ]
    }
   ],
   "source": [
    "#center() returns centered in a string of length width. Padding is done using the specified fillchar. Default filler is a space.\n",
    "\n",
    "\n",
    "str = \"this is string example....wow!!!\"\n",
    "print (\"str.center(40, 'a') : \", str.center(40, '*'))"
   ]
  },
  {
   "cell_type": "code",
   "execution_count": 18,
   "metadata": {},
   "outputs": [
    {
     "name": "stdout",
     "output_type": "stream",
     "text": [
      "str.center(40, 'a') :  ****this is string example....wow!!!****\n",
      "str.count(sub, 4, 40) :  2\n",
      "str.count(sub) :  1\n",
      "\"is is reapeated 2 times!\"\n",
      "-1\n",
      "-1\n",
      "\"keyword exam is at  15 position in the statement\"\n"
     ]
    }
   ],
   "source": [
    "#count() returns the number of occurrences of substring sub in the range [start, end]. \n",
    "\n",
    "#str.count(sub, start= 0,end=len(string))\n",
    "\n",
    "str = \"this is string example....wow!!!\"\n",
    "print (\"str.center(40, 'a') : \", str.center(40, '*'))\n",
    "str = \"this is string example....wow!!!\";\n",
    "\n",
    "sub = \"i\";\n",
    "print (\"str.count(sub, 4, 40) : \", str.count(sub, 4, 40))\n",
    "sub = \"wow\";\n",
    "print (\"str.count(sub) : \", str.count(sub))\n",
    "str1 = \"this is string example....wow!!!\";\n",
    "str2 = \"is\";\n",
    "\n",
    "print (\"\\\"is is reapeated\",str1.find(str2),\"times!\\\"\")\n",
    "print (str1.find(str2, 10))\n",
    "print (str1.find(str2, 40))\n",
    "str2=\"exam\"\n",
    "print (\"\\\"keyword exam is at \",str1.index(str2, 10,32),\"position in the statement\\\"\")"
   ]
  },
  {
   "cell_type": "code",
   "execution_count": 21,
   "metadata": {},
   "outputs": [
    {
     "name": "stdout",
     "output_type": "stream",
     "text": [
      "2\n",
      "-1\n",
      "-1\n"
     ]
    }
   ],
   "source": [
    "#find() determines if string str occurs in string, or in a substring of string if starting index beg and ending index end are given.\n",
    "\n",
    "#str.find(str, beg=0, end=len(string))\n",
    "\n",
    "str1 = \"this is string example....wow!!!\";\n",
    "str2 = \"is\";\n",
    "\n",
    "print (str1.find(str2))\n",
    "print (str1.find(str2, 10))\n",
    "print (str1.find(str2, 40))"
   ]
  },
  {
   "cell_type": "code",
   "execution_count": 14,
   "metadata": {},
   "outputs": [
    {
     "name": "stdout",
     "output_type": "stream",
     "text": [
      "15\n",
      "15\n"
     ]
    }
   ],
   "source": [
    "#index() determines if string str occurs in string or in a substring of string if starting index beg and ending index end are given.\n",
    "\n",
    "str1 = \"this is string example....wow!!!\";\n",
    "str2 = \"exam\";\n",
    "\n",
    "print (str1.index(str2))\n",
    "print (str1.index(str2, 10,32))\n"
   ]
  },
  {
   "cell_type": "code",
   "execution_count": 25,
   "metadata": {},
   "outputs": [
    {
     "name": "stdout",
     "output_type": "stream",
     "text": [
      "True\n",
      "False\n",
      "True\n",
      "True\n",
      "False\n",
      "False\n",
      "True\n"
     ]
    }
   ],
   "source": [
    "#isalnum() checks whether the string consists of alphanumeric characters.\n",
    "\n",
    "str = \"this2021\";  # No space in this string\n",
    "print (str.isalnum())\n",
    "str = \"Hello, this is planet earth!\";\n",
    "print (str.isalnum())\n",
    "str = \"GulshanKumar\";  # No space & digit in this string\n",
    "print (str.isalpha())\n",
    "str = \"123456\";  # Only digit in this string\n",
    "print (str.isdigit())\n",
    "str = \"Hello, this is planet earth!\";\n",
    "print (str.isdigit())\n",
    "str = \"HELLO,THIS IS PLANET EARTH !\"; \n",
    "print (str.islower())\n",
    "str = \"hello, this is planet earth!\";\n",
    "print (str.islower())\n"
   ]
  },
  {
   "cell_type": "code",
   "execution_count": 21,
   "metadata": {},
   "outputs": [
    {
     "name": "stdout",
     "output_type": "stream",
     "text": [
      "True\n",
      "False\n"
     ]
    }
   ],
   "source": [
    "str = \"ShabnamSharma\";  # No space & digit in this string\n",
    "print (str.isalpha())\n",
    "\n",
    "str = \"this is string example....wow!!!\";\n",
    "print (str.isalpha())"
   ]
  },
  {
   "cell_type": "code",
   "execution_count": 26,
   "metadata": {},
   "outputs": [
    {
     "name": "stdout",
     "output_type": "stream",
     "text": [
      "True\n",
      "False\n"
     ]
    }
   ],
   "source": [
    "str = \"123456\";  # Only digit in this string\n",
    "print (str.isdigit())\n",
    "\n",
    "str = \"this is string example....wow!!!\";\n",
    "print (str.isdigit())"
   ]
  },
  {
   "cell_type": "code",
   "execution_count": 29,
   "metadata": {
    "scrolled": true
   },
   "outputs": [
    {
     "name": "stdout",
     "output_type": "stream",
     "text": [
      "False\n",
      "True\n"
     ]
    }
   ],
   "source": [
    "str = \"THIS is string example....wow!!!\"; \n",
    "print (str.islower())\n",
    "\n",
    "str = \"this is string example....wow!!!\";\n",
    "print (str.islower())"
   ]
  },
  {
   "cell_type": "code",
   "execution_count": 26,
   "metadata": {},
   "outputs": [
    {
     "name": "stdout",
     "output_type": "stream",
     "text": [
      "False\n",
      "True\n",
      "True\n",
      "False\n",
      "False\n",
      "False\n",
      "True\n",
      "False\n"
     ]
    }
   ],
   "source": [
    "str = \"Covid2019\";  \n",
    "print (str.isnumeric())\n",
    "\n",
    "str = \"123654789\";\n",
    "print (str.isnumeric())\n",
    "str = \"  \"; \n",
    "print (str.isspace())\n",
    "\n",
    "str = \"Hello, this is planet earth!\";\n",
    "print (str.isspace())\n",
    "str = \"Hello, this is planet earth!\";\n",
    "print (str.istitle())\n",
    "\n",
    "str = \"Hello, this is planet earth!\";\n",
    "print (str.istitle())\n",
    "\n",
    "str = \"HELLO, THIS IS PLANET EARTH\"; \n",
    "print (str.isupper())\n",
    "\n",
    "str = \"Hello, this is planet earth!\";\n",
    "print (str.isupper())"
   ]
  },
  {
   "cell_type": "code",
   "execution_count": 33,
   "metadata": {},
   "outputs": [
    {
     "name": "stdout",
     "output_type": "stream",
     "text": [
      "True\n",
      "False\n"
     ]
    }
   ],
   "source": [
    "str = \"  \"; \n",
    "print (str.isspace())\n",
    "\n",
    "str = \"This is string example....wow!!!\";\n",
    "print (str.isspace())"
   ]
  },
  {
   "cell_type": "code",
   "execution_count": 34,
   "metadata": {},
   "outputs": [
    {
     "name": "stdout",
     "output_type": "stream",
     "text": [
      "True\n",
      "False\n"
     ]
    }
   ],
   "source": [
    "str = \"This Is String Example...Wow!!!\";\n",
    "print (str.istitle())\n",
    "\n",
    "str = \"This is string example....wow!!!\";\n",
    "print (str.istitle())"
   ]
  },
  {
   "cell_type": "code",
   "execution_count": 35,
   "metadata": {
    "scrolled": true
   },
   "outputs": [
    {
     "name": "stdout",
     "output_type": "stream",
     "text": [
      "True\n",
      "False\n"
     ]
    }
   ],
   "source": [
    "\n",
    "str = \"THIS IS STRING EXAMPLE....WOW!!!\"; \n",
    "print (str.isupper())\n",
    "\n",
    "str = \"THIS is string example....wow!!!\";\n",
    "print (str.isupper())"
   ]
  },
  {
   "cell_type": "code",
   "execution_count": 29,
   "metadata": {},
   "outputs": [
    {
     "name": "stdout",
     "output_type": "stream",
     "text": [
      "abc  *  *  bttt  *  *  cqweqe\n",
      "Length of the string:  32\n",
      "this is string example....wow!!!     \n",
      "this is string example....wow!!!999999\n",
      "88888888this is string example....wow!!!\n"
     ]
    }
   ],
   "source": [
    "#join() returns a string in which the string elements of sequence have been joined by str separator.\n",
    "\n",
    "s = \"  *  *  \";\n",
    "seq = (\"abc\", \"bttt\", \"cqweqe\"); # This is sequence of strings.\n",
    "print (s.join( seq ))\n",
    "\n",
    "str = \"this is string example....wow!!!\";\n",
    "print (\"Length of the string: \", len(str))\n",
    "\n",
    "str = \"     this is string example....wow!!!     \";\n",
    "print (str.lstrip())\n",
    "str = \"88888888this is string example....wow!!!999999\";\n",
    "print (str.lstrip('8'))\n",
    "print (str.rstrip('9'))\n"
   ]
  },
  {
   "cell_type": "code",
   "execution_count": 37,
   "metadata": {},
   "outputs": [
    {
     "name": "stdout",
     "output_type": "stream",
     "text": [
      "Length of the string:  32\n"
     ]
    }
   ],
   "source": [
    "str = \"this is string example....wow!!!\";\n",
    "print (\"Length of the string: \", len(str))"
   ]
  },
  {
   "cell_type": "code",
   "execution_count": 29,
   "metadata": {},
   "outputs": [
    {
     "name": "stdout",
     "output_type": "stream",
     "text": [
      "this is string example....wow!!!     \n",
      "this is string example....wow!!!999999\n",
      "88888888this is string example....wow!!!\n"
     ]
    }
   ],
   "source": [
    "#lstrip() returns a copy of the string in which all chars have been stripped from the beginning of the string (default whitespace characters)\n",
    "\n",
    "str = \"     this is string example....wow!!!     \";\n",
    "print (str.lstrip())\n",
    "str = \"88888888this is string example....wow!!!999999\";\n",
    "print (str.lstrip('8'))\n",
    "print (str.rstrip('9'))\n",
    "\n",
    "\n"
   ]
  },
  {
   "cell_type": "code",
   "execution_count": 39,
   "metadata": {},
   "outputs": [
    {
     "name": "stdout",
     "output_type": "stream",
     "text": [
      "this is string example....wow!!!\n"
     ]
    }
   ],
   "source": [
    "str = \"THIS IS STRING EXAMPLE....WOW!!!\";\n",
    "print (str.lower())"
   ]
  },
  {
   "cell_type": "code",
   "execution_count": 31,
   "metadata": {},
   "outputs": [
    {
     "name": "stdout",
     "output_type": "stream",
     "text": [
      "this is string example....wow!!!\n",
      "Max character: w\n",
      "Max character: s\n",
      "Min character: !\n",
      "Min character: !\n"
     ]
    }
   ],
   "source": [
    "#returns largest character\n",
    "str = \"THIS IS STRING EXAMPLE....WOW!!!\";\n",
    "print (str.lower())\n",
    "str = \"check....wow!!!\";\n",
    "print (\"Max character: \" + max(str))\n",
    "\n",
    "str = \"shabnam....!!!\";\n",
    "print (\"Max character: \" + max(str))\n",
    "str = \"this-is-real-string-example....wow!!!\";\n",
    "print (\"Min character: \" + min(str))\n",
    "\n",
    "str = \"this-is-a-string-example....wow!!!\";\n",
    "print (\"Min character: \" + min(str))"
   ]
  },
  {
   "cell_type": "code",
   "execution_count": 44,
   "metadata": {},
   "outputs": [
    {
     "name": "stdout",
     "output_type": "stream",
     "text": [
      "Min character: !\n",
      "Min character: !\n"
     ]
    }
   ],
   "source": [
    "str = \"this-is-real-string-example....wow!!!\";\n",
    "print (\"Min character: \" + min(str))\n",
    "\n",
    "str = \"this-is-a-string-example....wow!!!\";\n",
    "print (\"Min character: \" + min(str))"
   ]
  },
  {
   "cell_type": "code",
   "execution_count": 32,
   "metadata": {},
   "outputs": [
    {
     "name": "stdout",
     "output_type": "stream",
     "text": [
      "thwas was string example....wow!!! thwas was really string\n",
      "thwas was string example....wow!!! thwas is really string\n",
      "True\n",
      "True\n",
      "False\n",
      "str.capitalize() :  THIS IS STRING EXAMPLE....WOW!!!\n",
      "THIS IS STRING EXAMPLE....WOW!!!\n",
      "this is string example....wow!!!\n"
     ]
    }
   ],
   "source": [
    "#str.replace(old, new[, max])\n",
    "\n",
    "str = \"this is string example....wow!!! this is really string\"\n",
    "print (str.replace(\"is\", \"was\"))\n",
    "print (str.replace(\"is\", \"was\", 3))\n",
    "str = \"this is string example....wow!!!\";\n",
    "print (str.startswith( 'this' ))\n",
    "print (str.startswith( 'is', 2, 4 ))\n",
    "print (str.startswith( 'this', 2, 4 ))\n",
    "str = \"this is string example....wow!!!\";\n",
    "print (\"str.capitalize() : \", str.upper())\n",
    "str = \"this is string example....wow!!!\";\n",
    "print (str.swapcase())\n",
    "\n",
    "str = \"THIS IS STRING EXAMPLE....WOW!!!\";\n",
    "print (str.swapcase())"
   ]
  },
  {
   "cell_type": "code",
   "execution_count": 48,
   "metadata": {},
   "outputs": [
    {
     "name": "stdout",
     "output_type": "stream",
     "text": [
      "True\n",
      "True\n",
      "False\n"
     ]
    }
   ],
   "source": [
    "str = \"this is string example....wow!!!\";\n",
    "print (str.startswith( 'this' ))\n",
    "print (str.startswith( 'is', 2, 4 ))\n",
    "print (str.startswith( 'this', 2, 4 ))"
   ]
  },
  {
   "cell_type": "code",
   "execution_count": 49,
   "metadata": {},
   "outputs": [
    {
     "name": "stdout",
     "output_type": "stream",
     "text": [
      "str.capitalize() :  THIS IS STRING EXAMPLE....WOW!!!\n"
     ]
    }
   ],
   "source": [
    "str = \"this is string example....wow!!!\";\n",
    "print (\"str.capitalize() : \", str.upper())"
   ]
  },
  {
   "cell_type": "code",
   "execution_count": 50,
   "metadata": {},
   "outputs": [
    {
     "name": "stdout",
     "output_type": "stream",
     "text": [
      "THIS IS STRING EXAMPLE....WOW!!!\n",
      "this is string example....wow!!!\n"
     ]
    }
   ],
   "source": [
    "str = \"this is string example....wow!!!\";\n",
    "print (str.swapcase())\n",
    "\n",
    "str = \"THIS IS STRING EXAMPLE....WOW!!!\";\n",
    "print (str.swapcase())"
   ]
  },
  {
   "cell_type": "code",
   "execution_count": null,
   "metadata": {},
   "outputs": [],
   "source": []
  },
  {
   "cell_type": "code",
   "execution_count": null,
   "metadata": {},
   "outputs": [],
   "source": []
  }
 ],
 "metadata": {
  "kernelspec": {
   "display_name": "Python 3",
   "language": "python",
   "name": "python3"
  },
  "language_info": {
   "codemirror_mode": {
    "name": "ipython",
    "version": 3
   },
   "file_extension": ".py",
   "mimetype": "text/x-python",
   "name": "python",
   "nbconvert_exporter": "python",
   "pygments_lexer": "ipython3",
   "version": "3.8.5"
  }
 },
 "nbformat": 4,
 "nbformat_minor": 5
}
