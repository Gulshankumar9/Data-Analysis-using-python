{
 "cells": [
  {
   "cell_type": "markdown",
   "metadata": {},
   "source": [
    "# Dictionaries"
   ]
  },
  {
   "cell_type": "code",
   "execution_count": 2,
   "metadata": {
    "scrolled": true
   },
   "outputs": [
    {
     "name": "stdout",
     "output_type": "stream",
     "text": [
      "Gulshan Kumar\n",
      "Undergraduate\n"
     ]
    }
   ],
   "source": [
    "dict={'name':'Gulshan Kumar','designation':'Student',\n",
    "      'qual':'Undergraduate','univ':'CMRU'}\n",
    "print(dict['name'])\n",
    "\n",
    "print(dict['qual'])"
   ]
  },
  {
   "cell_type": "code",
   "execution_count": 3,
   "metadata": {},
   "outputs": [
    {
     "name": "stdout",
     "output_type": "stream",
     "text": [
      "Gulshan Kumar sharma\n",
      "cse7sem\n"
     ]
    }
   ],
   "source": [
    "dict={'name':'Gulshan Kumar','designation':'Student',\n",
    "      'qual':'Undergraduate','univ':'CMRU'}\n",
    "\n",
    "dict['name']='Gulshan Kumar sharma'\n",
    "\n",
    "print(dict['name'])\n",
    "\n",
    "dict['class']='cse7sem'\n",
    "\n",
    "print(dict['class'])\n",
    "\n"
   ]
  },
  {
   "cell_type": "code",
   "execution_count": 2,
   "metadata": {},
   "outputs": [
    {
     "name": "stdout",
     "output_type": "stream",
     "text": [
      "sakshi sharma\n",
      "4\n"
     ]
    }
   ],
   "source": [
    "dict={'name':'Gulshan Kumar','designation':'Student',\n",
    "      'qual':'Undergraduate','univ':'CMRU'}\n",
    "del dict['designation']\n",
    "dict.clear()\n",
    "del dict\n",
    "dict={'name':'Gulshan Kumar','designation':'Student',\n",
    "      'qual':'Undergraduate','univ':'CMRU', 'name':'sakshi sharma'}\n",
    "print(dict['name'])\n",
    "print(len(dict))"
   ]
  },
  {
   "cell_type": "code",
   "execution_count": 9,
   "metadata": {},
   "outputs": [
    {
     "name": "stdout",
     "output_type": "stream",
     "text": [
      "sakshi sharma\n",
      "4\n"
     ]
    }
   ],
   "source": [
    "dict={'name':'Gulshan Kumar','designation':'Student','qual':'Undergraduate','univ':'CMRU', 'name':'sakshi sharma'}\n",
    "\n",
    "\n",
    "print(dict['name'])\n",
    "\n",
    "print(len(dict))"
   ]
  },
  {
   "cell_type": "code",
   "execution_count": 11,
   "metadata": {},
   "outputs": [
    {
     "name": "stdout",
     "output_type": "stream",
     "text": [
      "dict_values(['sakshi sharma', 'Student', 'Undergraduate', 'CMRU'])\n",
      "dict_items([('name', 'sakshi sharma'), ('designation', 'Student'), ('qual', 'Undergraduate'), ('univ', 'CMRU')])\n",
      "dict_keys(['name', 'designation', 'qual', 'univ'])\n",
      "sakshi sharma\n",
      "MBA\n"
     ]
    }
   ],
   "source": [
    "dict={'name':'Gulshan Kumar','designation':'Student',\n",
    "      'qual':'Undergraduate','univ':'CMRU', 'name':'sakshi sharma'}\n",
    "print(dict.values())\n",
    "print(dict.items())\n",
    "print(dict.keys())\n",
    "print(dict['name'])\n",
    "print(dict.get('edu',\"MBA\"))"
   ]
  },
  {
   "cell_type": "code",
   "execution_count": 13,
   "metadata": {},
   "outputs": [
    {
     "name": "stdout",
     "output_type": "stream",
     "text": [
      "sakshi sharma\n",
      "4\n",
      "{'name': 'sakshi sharma', 'designation': 'Student', 'qual': 'Undergraduate', 'univ': 'CMRU'}\n",
      "{'edu': 'M-TECH', 'students': '2 sem'}\n",
      "{'name': 'sakshi sharma', 'designation': 'Student', 'qual': 'Undergraduate', 'univ': 'CMRU', 'edu': 'M-TECH', 'students': '2 sem'}\n"
     ]
    }
   ],
   "source": [
    "dict={'name':'Gulshan Kumar','designation':'Student',\n",
    "      'qual':'Undergraduate','univ':'CMRU', 'name':'sakshi sharma'}\n",
    "dict2=dict.copy()\n",
    "print(dict2['name'])\n",
    "print(len(dict2))\n",
    "dict2={'edu':'M-TECH','students':'2 sem'}\n",
    "print(dict)\n",
    "print(dict2)\n",
    "dict.update(dict2)\n",
    "print(dict)"
   ]
  },
  {
   "cell_type": "markdown",
   "metadata": {},
   "source": [
    "# Tuples"
   ]
  },
  {
   "cell_type": "code",
   "execution_count": 14,
   "metadata": {},
   "outputs": [
    {
     "name": "stdout",
     "output_type": "stream",
     "text": [
      "('cse', 'it', 'mech', 'civil', 'ece')\n",
      "(10, 20, 55, 80, 94)\n",
      "('abc', 'def')\n"
     ]
    }
   ],
   "source": [
    "tup= ('cse','it','mech','civil','ece')\n",
    "print(tup)\n",
    "tup1=(10,20,55,80,94)\n",
    "print(tup1)\n",
    "tup2=\"abc\",\"def\"\n",
    "print(tup2)"
   ]
  },
  {
   "cell_type": "code",
   "execution_count": 15,
   "metadata": {},
   "outputs": [
    {
     "name": "stdout",
     "output_type": "stream",
     "text": [
      "()\n",
      "24\n",
      "cse\n",
      "mech\n",
      "('mech', 'ece', 'electrical')\n"
     ]
    }
   ],
   "source": [
    "tup1 = ()\n",
    "print(tup1)\n",
    "\n",
    "tup1 = (24)\n",
    "print(tup1)\n",
    "\n",
    "tup= ('cse','it','mech','ece','electrical')\n",
    "print(tup[0])\n",
    "print(tup[2])\n",
    "print(tup[2:5])"
   ]
  },
  {
   "cell_type": "code",
   "execution_count": 19,
   "metadata": {},
   "outputs": [],
   "source": [
    "tup1= ('cse','it','mech','ece','electrical')\n",
    "del(tup1)"
   ]
  },
  {
   "cell_type": "code",
   "execution_count": 20,
   "metadata": {},
   "outputs": [
    {
     "ename": "NameError",
     "evalue": "name 'tup1' is not defined",
     "output_type": "error",
     "traceback": [
      "\u001b[1;31m---------------------------------------------------------------------------\u001b[0m",
      "\u001b[1;31mNameError\u001b[0m                                 Traceback (most recent call last)",
      "\u001b[1;32m<ipython-input-20-359c5fbf330f>\u001b[0m in \u001b[0;36m<module>\u001b[1;34m\u001b[0m\n\u001b[1;32m----> 1\u001b[1;33m \u001b[0mprint\u001b[0m\u001b[1;33m(\u001b[0m\u001b[0mtup1\u001b[0m\u001b[1;33m)\u001b[0m\u001b[1;33m\u001b[0m\u001b[1;33m\u001b[0m\u001b[0m\n\u001b[0m",
      "\u001b[1;31mNameError\u001b[0m: name 'tup1' is not defined"
     ]
    }
   ],
   "source": [
    "print(tup1)"
   ]
  },
  {
   "cell_type": "code",
   "execution_count": 29,
   "metadata": {
    "scrolled": true
   },
   "outputs": [
    {
     "name": "stdout",
     "output_type": "stream",
     "text": [
      "('Apple', 'Mango', 'orange', 'strawberry', 'Litchi')\n",
      "('Gulshan', 'sakshi', 'jahnavi', 'sowmya', 'sowmyashree', 'Rajesh')\n",
      "('Apple', 'Mango', 'orange', 'strawberry', 'Litchi', 'Gulshan', 'sakshi', 'jahnavi', 'sowmya', 'sowmyashree', 'Rajesh')\n",
      "value at 3rd loc=  strawberry\n",
      "value at 3rd loc=  sakshi\n",
      "length of tuple 1 5\n",
      "length of tuple 2 6\n",
      "strawberry\n",
      "sowmyashree\n"
     ]
    }
   ],
   "source": [
    "tup1= ('Apple','Mango','orange','strawberry','Litchi')\n",
    "print(tup1)\n",
    "tup2= ('Gulshan','sakshi','jahnavi','sowmya','sowmyashree','Rajesh')\n",
    "print(tup2)\n",
    "tup3=tup1+tup2\n",
    "print(tup3)\n",
    "print(\"value at 3rd loc= \",tup1[3])\n",
    "print(\"value at 3rd loc= \",tup2[1])\n",
    "a=len(tup1)\n",
    "b=len(tup2)\n",
    "print(\"length of tuple 1\",a)\n",
    "print(\"length of tuple 2\",b)\n",
    "print(max(tup1))\n",
    "print(max(tup2))"
   ]
  }
 ],
 "metadata": {
  "kernelspec": {
   "display_name": "Python 3",
   "language": "python",
   "name": "python3"
  },
  "language_info": {
   "codemirror_mode": {
    "name": "ipython",
    "version": 3
   },
   "file_extension": ".py",
   "mimetype": "text/x-python",
   "name": "python",
   "nbconvert_exporter": "python",
   "pygments_lexer": "ipython3",
   "version": "3.8.5"
  }
 },
 "nbformat": 4,
 "nbformat_minor": 4
}
