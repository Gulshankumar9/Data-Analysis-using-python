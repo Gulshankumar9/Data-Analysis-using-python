{
 "cells": [
  {
   "cell_type": "code",
   "execution_count": 1,
   "metadata": {},
   "outputs": [
    {
     "name": "stdout",
     "output_type": "stream",
     "text": [
      "   S.No. Name  Eng  Maths  Sci  Total\n",
      "0      1    a   34     56   77    167\n",
      "1      2    s   35     66   79    180\n",
      "2      3    d   36     76   81    193\n",
      "3      4    f   37     86   83    206\n",
      "4      5   gh   38     96   85    219\n",
      "5      6    j   39    106   87    232\n",
      "6      7   kk   40    116   89    245\n"
     ]
    }
   ],
   "source": [
    "import pandas as pd\n",
    "d=pd.read_excel(\"Book1.xlsx\")\n",
    "df=pd.DataFrame(d)\n",
    "print(df)"
   ]
  },
  {
   "cell_type": "code",
   "execution_count": 2,
   "metadata": {},
   "outputs": [
    {
     "name": "stdout",
     "output_type": "stream",
     "text": [
      "   S.No. Name  Eng  Maths  Sci  Total  Percentage\n",
      "0      1    a   34     56   77    167   55.666667\n",
      "1      2    s   35     66   79    180   60.000000\n",
      "2      3    d   36     76   81    193   64.333333\n",
      "3      4    f   37     86   83    206   68.666667\n",
      "4      5   gh   38     96   85    219   73.000000\n",
      "5      6    j   39    106   87    232   77.333333\n",
      "6      7   kk   40    116   89    245   81.666667\n"
     ]
    }
   ],
   "source": [
    "df['Percentage']=df['Total']/300*100\n",
    "print(df)"
   ]
  },
  {
   "cell_type": "code",
   "execution_count": 5,
   "metadata": {},
   "outputs": [],
   "source": [
    "df.to_excel(\"new.xlsx\")"
   ]
  },
  {
   "cell_type": "code",
   "execution_count": 6,
   "metadata": {},
   "outputs": [],
   "source": [
    "df.to_excel(\"new1.xlsx\",index=False)"
   ]
  },
  {
   "cell_type": "code",
   "execution_count": 7,
   "metadata": {},
   "outputs": [],
   "source": [
    "df.to_csv(\"CSV1.csv\",index=False)"
   ]
  },
  {
   "cell_type": "code",
   "execution_count": 8,
   "metadata": {},
   "outputs": [],
   "source": [
    "df.to_csv(\"TEXT.txt\",index=False,sep=\"\\t\")"
   ]
  },
  {
   "cell_type": "code",
   "execution_count": null,
   "metadata": {},
   "outputs": [],
   "source": []
  }
 ],
 "metadata": {
  "kernelspec": {
   "display_name": "Python 3",
   "language": "python",
   "name": "python3"
  },
  "language_info": {
   "codemirror_mode": {
    "name": "ipython",
    "version": 3
   },
   "file_extension": ".py",
   "mimetype": "text/x-python",
   "name": "python",
   "nbconvert_exporter": "python",
   "pygments_lexer": "ipython3",
   "version": "3.8.5"
  }
 },
 "nbformat": 4,
 "nbformat_minor": 5
}
