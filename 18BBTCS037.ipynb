{
 "cells": [
  {
   "cell_type": "markdown",
   "metadata": {},
   "source": [
    "# If else statements "
   ]
  },
  {
   "cell_type": "markdown",
   "metadata": {},
   "source": [
    "# 1.Program to check if the number is even "
   ]
  },
  {
   "cell_type": "code",
   "execution_count": 1,
   "metadata": {},
   "outputs": [
    {
     "name": "stdout",
     "output_type": "stream",
     "text": [
      "enter the number?156\n",
      "Number is even\n",
      "bye\n"
     ]
    }
   ],
   "source": [
    "    num = int(input(\"enter the number?\"))  \n",
    "    if num%2 == 0:  \n",
    "        print(\"Number is even\")\n",
    "    print(\"bye\")"
   ]
  },
  {
   "cell_type": "markdown",
   "metadata": {},
   "source": [
    "# 2.Program to check the largest among three numbers "
   ]
  },
  {
   "cell_type": "code",
   "execution_count": 4,
   "metadata": {},
   "outputs": [
    {
     "name": "stdout",
     "output_type": "stream",
     "text": [
      "Enter a = 1\n",
      "Enter b = 1\n",
      "Enter c = 1\n",
      "All the a b and c are same \n"
     ]
    }
   ],
   "source": [
    "    a = int(input(\"Enter a = \"));  \n",
    "    b = int(input(\"Enter b = \"));  \n",
    "    c = int(input(\"Enter c = \"));  \n",
    "    if a>b and a>c:  \n",
    "        print(\"a is largest\");  \n",
    "    if b>a and b>c:  \n",
    "        print(\"b is largest\");  \n",
    "    if c>a and c>b:  \n",
    "        print(\"c is largest\");\n",
    "    if a==b==c:\n",
    "        print(\"All the a b and c are same \")"
   ]
  },
  {
   "cell_type": "markdown",
   "metadata": {},
   "source": [
    "# 3.Program to evaluate the age eligible for voting"
   ]
  },
  {
   "cell_type": "code",
   "execution_count": 7,
   "metadata": {},
   "outputs": [
    {
     "name": "stdout",
     "output_type": "stream",
     "text": [
      "Enter your age ? 15\n",
      "Sorry! You are not eligible to vote! \n"
     ]
    }
   ],
   "source": [
    "    age = int (input(\"Enter your age ? \"))  \n",
    "    if age>=18:  \n",
    "        print(\"You are eligible to vote !!\");  \n",
    "    else:  \n",
    "        print(\"Sorry! You are not eligible to vote! \");  "
   ]
  },
  {
   "cell_type": "markdown",
   "metadata": {},
   "source": [
    "# 4.Program to check whether the number is equalt to 10,50 or 100"
   ]
  },
  {
   "cell_type": "code",
   "execution_count": 10,
   "metadata": {
    "scrolled": true
   },
   "outputs": [
    {
     "name": "stdout",
     "output_type": "stream",
     "text": [
      "Enter the number?15\n",
      "Number is not equal to 10, 50 or 100\n"
     ]
    }
   ],
   "source": [
    "    number = int(input(\"Enter the number?\"))  \n",
    "    if number==10:  \n",
    "        print(\"Number is equal to 10\")  \n",
    "    elif number==50:  \n",
    "        print(\"Number is equal to 50\");  \n",
    "    elif number==100:  \n",
    "        print(\"Number is equal to 100\");  \n",
    "    else:  \n",
    "        print(\"Number is not equal to 10, 50 or 100\");  "
   ]
  },
  {
   "cell_type": "markdown",
   "metadata": {},
   "source": [
    "# 5.Program to calculate the grade of a student "
   ]
  },
  {
   "cell_type": "code",
   "execution_count": 34,
   "metadata": {},
   "outputs": [
    {
     "name": "stdout",
     "output_type": "stream",
     "text": [
      "Enter the marks? 1\n",
      "Sorry you are failed.\n"
     ]
    }
   ],
   "source": [
    "    marks = int(input(\"Enter the marks? \"))  \n",
    "    if marks>100:\n",
    "        print(\"Please enter valid marks scored.\")\n",
    "    elif marks > 85 and marks <= 100:  \n",
    "       print(\"Congrats ! you scored grade A ...\")  \n",
    "    elif marks > 60 and marks <= 85:  \n",
    "       print(\"You scored grade B + ...\")  \n",
    "    elif marks > 40 and marks <= 60:  \n",
    "       print(\"You scored grade B ...\")  \n",
    "    elif (marks > 30 and marks <= 40):  \n",
    "       print(\"You scored grade C ...\")  \n",
    "    else:  \n",
    "       print(\"Sorry you are failed.\")  "
   ]
  },
  {
   "cell_type": "markdown",
   "metadata": {},
   "source": [
    "\n",
    "# List and dictionaries"
   ]
  },
  {
   "cell_type": "code",
   "execution_count": 17,
   "metadata": {},
   "outputs": [
    {
     "name": "stdout",
     "output_type": "stream",
     "text": [
      "list1[0]:  1997\n",
      "list2[1:5]:  [2, 3]\n"
     ]
    }
   ],
   "source": [
    "list1 = ['Hindi', 'Mathematics', 1997, 2000];\n",
    "list2 = [1, 2, 3, 4, 5, 6, 7 ];\n",
    "print (\"list1[0]: \", list1[2])\n",
    "print (\"list2[1:5]: \", list2[1:3])"
   ]
  },
  {
   "cell_type": "code",
   "execution_count": 18,
   "metadata": {},
   "outputs": [
    {
     "name": "stdout",
     "output_type": "stream",
     "text": [
      "Value available at index 2 : \n",
      "1997\n",
      "New value available at index 2 : \n",
      "999999\n"
     ]
    }
   ],
   "source": [
    "list = ['Hindi', 'Mathematics', 1997, 2000];\n",
    "print (\"Value available at index 2 : \")\n",
    "print (list[2])\n",
    "list[2] = 999999;\n",
    "print (\"New value available at index 2 : \")\n",
    "print (list[2])"
   ]
  },
  {
   "cell_type": "code",
   "execution_count": 19,
   "metadata": {},
   "outputs": [
    {
     "name": "stdout",
     "output_type": "stream",
     "text": [
      "['Hindi', 'Mathematics', 1997, 2000]\n",
      "After deleting value at index 2 :\n",
      "['Hindi', 'Mathematics', 2000]\n"
     ]
    }
   ],
   "source": [
    "list1 = ['Hindi', 'Mathematics', 1997, 2000];\n",
    "print (list1)\n",
    "del (list1[2]);\n",
    "print (\"After deleting value at index 2 :\")\n",
    "print (list1)"
   ]
  },
  {
   "cell_type": "code",
   "execution_count": 20,
   "metadata": {},
   "outputs": [
    {
     "name": "stdout",
     "output_type": "stream",
     "text": [
      "First list length :  3\n",
      "Second list length :  2\n"
     ]
    }
   ],
   "source": [
    "list1, list2 = [123, 'abc', 'sun'], [456, 'pqr']\n",
    "print (\"First list length : \", len(list1))\n",
    "print (\"Second list length : \", len(list2))"
   ]
  },
  {
   "cell_type": "code",
   "execution_count": 21,
   "metadata": {},
   "outputs": [
    {
     "name": "stdout",
     "output_type": "stream",
     "text": [
      "Updated List :  [123, 'xyz', 'zara', 'abc', 2009]\n"
     ]
    }
   ],
   "source": [
    "aList = [123, 'xyz', 'zara', 'abc'];\n",
    "aList.append( 2009 );\n",
    "print (\"Updated List : \", aList)"
   ]
  },
  {
   "cell_type": "code",
   "execution_count": 25,
   "metadata": {},
   "outputs": [
    {
     "name": "stdout",
     "output_type": "stream",
     "text": [
      "Count for xyz :  1\n",
      "Count for zara :  1\n"
     ]
    }
   ],
   "source": [
    "aList = [123, 'abc', 'xyz', 'pqr', 456];\n",
    "print (\"Count for xyz : \", aList.count('xyz'))\n",
    "print (\"Count for zara : \", aList.count(123))"
   ]
  },
  {
   "cell_type": "markdown",
   "metadata": {},
   "source": [
    "# String operations\n"
   ]
  },
  {
   "cell_type": "code",
   "execution_count": 26,
   "metadata": {},
   "outputs": [
    {
     "name": "stdout",
     "output_type": "stream",
     "text": [
      "Hello World!   Python Programming\n",
      "H\n",
      "ytho\n"
     ]
    }
   ],
   "source": [
    "var1 = 'Hello World!'\n",
    "var2 = \"Python Programming\"\n",
    "print(var1,\" \",var2)\n",
    "var1 = 'Hello World!'\n",
    "var2 = \"Python Programming\"\n",
    "print (var1[0])\n",
    "print (var2[1:5])"
   ]
  },
  {
   "cell_type": "code",
   "execution_count": 27,
   "metadata": {},
   "outputs": [
    {
     "name": "stdout",
     "output_type": "stream",
     "text": [
      "Updated String :-  Hello Gulshan\n",
      "Please Enter Your Own String : Kumar\n",
      "The Final String : Str2  =  Kumar\n",
      "The Final String : Str3  = =  Kumar\n",
      "The Final String : Str4  = =  mar\n",
      "str.capitalize() :  This is string example....wow!!!\n"
     ]
    }
   ],
   "source": [
    "var1 = 'Hello World!'\n",
    "print (\"Updated String :- \", var1[0:6] + 'Gulshan')\n",
    "str1 = input(\"Please Enter Your Own String : \")\n",
    "\n",
    "str2 = str1\n",
    "str3 = str1[:]\n",
    "str4 = str1[2:6]\n",
    "\n",
    "print(\"The Final String : Str2  = \", str2)\n",
    "print(\"The Final String : Str3  = = \", str3)\n",
    "print(\"The Final String : Str4  = = \", str4)\n",
    "str = \"this is string example....wow!!!\";\n",
    "print (\"str.capitalize() : \", str.capitalize())"
   ]
  },
  {
   "cell_type": "code",
   "execution_count": 28,
   "metadata": {},
   "outputs": [
    {
     "name": "stdout",
     "output_type": "stream",
     "text": [
      "str.center(40, 'a') :  ****this is string example....wow!!!****\n",
      "str.count(sub, 4, 40) :  2\n",
      "str.count(sub) :  1\n",
      "\"is is reapeated 2 times!\"\n",
      "-1\n",
      "-1\n",
      "\"keyword exam is at  15 position in the statement\"\n"
     ]
    }
   ],
   "source": [
    "str = \"this is string example....wow!!!\"\n",
    "print (\"str.center(40, 'a') : \", str.center(40, '*'))\n",
    "str = \"this is string example....wow!!!\";\n",
    "\n",
    "sub = \"i\";\n",
    "print (\"str.count(sub, 4, 40) : \", str.count(sub, 4, 40))\n",
    "sub = \"wow\";\n",
    "print (\"str.count(sub) : \", str.count(sub))\n",
    "str1 = \"this is string example....wow!!!\";\n",
    "str2 = \"is\";\n",
    "\n",
    "print (\"\\\"is is reapeated\",str1.find(str2),\"times!\\\"\")\n",
    "print (str1.find(str2, 10))\n",
    "print (str1.find(str2, 40))\n",
    "str2=\"exam\"\n",
    "print (\"\\\"keyword exam is at \",str1.index(str2, 10,32),\"position in the statement\\\"\")"
   ]
  },
  {
   "cell_type": "code",
   "execution_count": 29,
   "metadata": {},
   "outputs": [
    {
     "name": "stdout",
     "output_type": "stream",
     "text": [
      "True\n",
      "False\n",
      "True\n",
      "True\n",
      "False\n",
      "False\n",
      "True\n"
     ]
    }
   ],
   "source": [
    "str = \"this2021\";  # No space in this string\n",
    "print (str.isalnum())\n",
    "str = \"Hello, this is planet earth!\";\n",
    "print (str.isalnum())\n",
    "str = \"GulshanKumar\";  # No space & digit in this string\n",
    "print (str.isalpha())\n",
    "str = \"123456\";  # Only digit in this string\n",
    "print (str.isdigit())\n",
    "str = \"Hello, this is planet earth!\";\n",
    "print (str.isdigit())\n",
    "str = \"HELLO,THIS IS PLANET EARTH !\"; \n",
    "print (str.islower())\n",
    "str = \"hello, this is planet earth!\";\n",
    "print (str.islower())\n"
   ]
  },
  {
   "cell_type": "code",
   "execution_count": 30,
   "metadata": {},
   "outputs": [
    {
     "name": "stdout",
     "output_type": "stream",
     "text": [
      "False\n",
      "True\n",
      "True\n",
      "False\n",
      "False\n",
      "False\n",
      "True\n",
      "False\n"
     ]
    }
   ],
   "source": [
    "str = \"Covid2019\";  \n",
    "print (str.isnumeric())\n",
    "\n",
    "str = \"123654789\";\n",
    "print (str.isnumeric())\n",
    "str = \"  \"; \n",
    "print (str.isspace())\n",
    "\n",
    "str = \"Hello, this is planet earth!\";\n",
    "print (str.isspace())\n",
    "str = \"Hello, this is planet earth!\";\n",
    "print (str.istitle())\n",
    "\n",
    "str = \"Hello, this is planet earth!\";\n",
    "print (str.istitle())\n",
    "\n",
    "str = \"HELLO, THIS IS PLANET EARTH\"; \n",
    "print (str.isupper())\n",
    "\n",
    "str = \"Hello, this is planet earth!\";\n",
    "print (str.isupper())"
   ]
  },
  {
   "cell_type": "code",
   "execution_count": 31,
   "metadata": {},
   "outputs": [
    {
     "name": "stdout",
     "output_type": "stream",
     "text": [
      "abc  *  *  bttt  *  *  cqweqe\n",
      "Length of the string:  32\n",
      "this is string example....wow!!!     \n",
      "this is string example....wow!!!999999\n",
      "88888888this is string example....wow!!!\n"
     ]
    }
   ],
   "source": [
    "s = \"  *  *  \";\n",
    "seq = (\"abc\", \"bttt\", \"cqweqe\"); # This is sequence of strings.\n",
    "print (s.join( seq ))\n",
    "\n",
    "str = \"this is string example....wow!!!\";\n",
    "print (\"Length of the string: \", len(str))\n",
    "\n",
    "str = \"     this is string example....wow!!!     \";\n",
    "print (str.lstrip())\n",
    "str = \"88888888this is string example....wow!!!999999\";\n",
    "print (str.lstrip('8'))\n",
    "print (str.rstrip('9'))\n"
   ]
  },
  {
   "cell_type": "code",
   "execution_count": 32,
   "metadata": {},
   "outputs": [
    {
     "name": "stdout",
     "output_type": "stream",
     "text": [
      "this is string example....wow!!!\n",
      "Max character: w\n",
      "Max character: s\n",
      "Min character: !\n",
      "Min character: !\n"
     ]
    }
   ],
   "source": [
    "str = \"THIS IS STRING EXAMPLE....WOW!!!\";\n",
    "print (str.lower())\n",
    "str = \"check....wow!!!\";\n",
    "print (\"Max character: \" + max(str))\n",
    "\n",
    "str = \"shabnam....!!!\";\n",
    "print (\"Max character: \" + max(str))\n",
    "str = \"this-is-real-string-example....wow!!!\";\n",
    "print (\"Min character: \" + min(str))\n",
    "\n",
    "str = \"this-is-a-string-example....wow!!!\";\n",
    "print (\"Min character: \" + min(str))"
   ]
  },
  {
   "cell_type": "code",
   "execution_count": null,
   "metadata": {},
   "outputs": [],
   "source": []
  }
 ],
 "metadata": {
  "kernelspec": {
   "display_name": "Python 3",
   "language": "python",
   "name": "python3"
  },
  "language_info": {
   "codemirror_mode": {
    "name": "ipython",
    "version": 3
   },
   "file_extension": ".py",
   "mimetype": "text/x-python",
   "name": "python",
   "nbconvert_exporter": "python",
   "pygments_lexer": "ipython3",
   "version": "3.8.5"
  }
 },
 "nbformat": 4,
 "nbformat_minor": 4
}
