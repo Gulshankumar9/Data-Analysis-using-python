{
 "cells": [
  {
   "cell_type": "code",
   "execution_count": 23,
   "metadata": {
    "scrolled": true
   },
   "outputs": [
    {
     "name": "stdout",
     "output_type": "stream",
     "text": [
      "       col1      col2      col3\n",
      "0 -0.584829 -0.392362 -1.014588\n",
      "1  0.450550  0.435097 -0.120406\n",
      "2 -0.173166  0.901112  0.461701\n",
      "3 -0.690692 -0.874892  0.266601\n",
      "4  1.240630  0.148242  1.225644\n",
      "printing the results of pipe\n",
      "       col1      col2      col3\n",
      "0  1.415171  1.607638  0.985412\n",
      "1  2.450550  2.435097  1.879594\n",
      "2  1.826834  2.901112  2.461701\n",
      "3  1.309308  1.125108  2.266601\n",
      "4  3.240630  2.148242  3.225644\n"
     ]
    }
   ],
   "source": [
    "import pandas as pd\n",
    "import numpy as np\n",
    "def adder(ele1,ele2):\n",
    "   return ele1+ele2\n",
    "df = pd.DataFrame(np.random.randn(5,3),columns=['col1','col2','col3'])\n",
    "print(df)\n",
    "print(\"printing the results of pipe\")\n",
    "print(df.pipe(adder,2))"
   ]
  },
  {
   "cell_type": "code",
   "execution_count": 24,
   "metadata": {},
   "outputs": [
    {
     "name": "stdout",
     "output_type": "stream",
     "text": [
      "       col1      col2      col3\n",
      "0  0.099507  0.550018  0.151857\n",
      "1  0.579280  0.650028 -0.439959\n",
      "2  0.561561  2.026554  1.850945\n",
      "3  0.384205  1.235848 -0.208449\n",
      "4  0.899139 -0.753353 -1.267451\n",
      "col1    0.504738\n",
      "col2    0.741819\n",
      "col3    0.017389\n",
      "dtype: float64\n"
     ]
    }
   ],
   "source": [
    "import pandas as pd\n",
    "import numpy as np\n",
    "df = pd.DataFrame(np.random.randn(5,3),columns=['col1','col2','col3'])\n",
    "print(df)\n",
    "print (df.apply(np.mean))"
   ]
  },
  {
   "cell_type": "code",
   "execution_count": 25,
   "metadata": {},
   "outputs": [
    {
     "name": "stdout",
     "output_type": "stream",
     "text": [
      "       col1      col2      col3\n",
      "0 -0.857360  1.023878 -0.582792\n",
      "1  1.840571  0.436736  1.108151\n",
      "2 -3.099252 -0.085649  0.879149\n",
      "3 -0.041756  1.079289  1.588452\n",
      "4 -0.043739  1.174157 -1.335650 \n",
      "\n",
      "0   -0.138758\n",
      "1    1.128486\n",
      "2   -0.768584\n",
      "3    0.875328\n",
      "4   -0.068410\n",
      "dtype: float64 \n",
      "\n",
      "0    -85.735959\n",
      "1    184.057071\n",
      "2   -309.925203\n",
      "3     -4.175621\n",
      "4     -4.373878\n",
      "Name: col1, dtype: float64\n"
     ]
    }
   ],
   "source": [
    "import pandas as pd\n",
    "import numpy as np\n",
    "df = pd.DataFrame(np.random.randn(5,3),columns=['col1','col2','col3'])\n",
    "print(df,'\\n')\n",
    "print (df.apply(np.mean,axis=1),\"\\n\")\n",
    "print(df['col1'].map(lambda x:x*100))"
   ]
  },
  {
   "cell_type": "code",
   "execution_count": 26,
   "metadata": {},
   "outputs": [
    {
     "name": "stdout",
     "output_type": "stream",
     "text": [
      "       col1      col2      col3\n",
      "0 -0.272506  0.808791  1.941526\n",
      "1  0.286166  0.732448  1.708931\n",
      "2 -0.118640  0.653310 -0.291535\n",
      "3  1.021468  0.716603 -0.435317\n",
      "4  0.133464 -0.652868  0.592407\n"
     ]
    }
   ],
   "source": [
    "import pandas as pd\n",
    "import numpy as np\n",
    "df = pd.DataFrame(np.random.randn(5,3),columns=['col1','col2','col3'])\n",
    "print(df)\n",
    "\n",
    "\n"
   ]
  },
  {
   "cell_type": "code",
   "execution_count": 27,
   "metadata": {},
   "outputs": [
    {
     "name": "stdout",
     "output_type": "stream",
     "text": [
      "   id  name  age  income\n",
      "0   1   abc   11    9999\n",
      "1   2  defg   22    8888\n",
      "2   3   ghs   33    7777\n",
      "3   4  eeee   44    6666\n",
      "4   5  wwww   55    5555\n",
      "   id  name  age  income\n",
      "0   1   abc   14    9999\n",
      "1   2  defg   25    8888\n",
      "2   3   ghs   36    7777\n",
      "3   4  eeee   47    6666\n",
      "4   5  wwww   58    5555\n"
     ]
    },
    {
     "data": {
      "text/plain": [
       "[25, 36, 47, 58]"
      ]
     },
     "execution_count": 27,
     "metadata": {},
     "output_type": "execute_result"
    }
   ],
   "source": [
    "df=pd.DataFrame({'id':[1,2,3,4,5],'name':['abc','defg','ghs','eeee','wwww']\n",
    "                 ,'age':[11,22,33,44,55], 'income':[9999,8888,7777,6666,5555]})\n",
    "print(df)\n",
    "df['age']=df.apply(lambda x: x['age']+3, axis=1)\n",
    "print(df)\n",
    "list(filter(lambda x:x>18, df['age']))"
   ]
  },
  {
   "cell_type": "code",
   "execution_count": null,
   "metadata": {},
   "outputs": [],
   "source": []
  },
  {
   "cell_type": "code",
   "execution_count": 28,
   "metadata": {},
   "outputs": [
    {
     "data": {
      "text/plain": [
       "[25, 36, 47, 58]"
      ]
     },
     "execution_count": 28,
     "metadata": {},
     "output_type": "execute_result"
    }
   ],
   "source": [
    "list(filter(lambda x:x>18, df['age']))"
   ]
  },
  {
   "cell_type": "code",
   "execution_count": 37,
   "metadata": {},
   "outputs": [],
   "source": [
    "df['income']=list(map(lambda x: int(x+x*0.2), df['income']))"
   ]
  },
  {
   "cell_type": "code",
   "execution_count": 42,
   "metadata": {},
   "outputs": [
    {
     "name": "stdout",
     "output_type": "stream",
     "text": [
      "   id  name  age  income category\n",
      "0   1   abc   14   29852    Child\n",
      "1   2  defg   25   26535    Adult\n",
      "2   3   ghs   36   23217    Adult\n",
      "3   4  eeee   47   19900    Adult\n",
      "4   5  wwww   58   16584    Adult\n"
     ]
    }
   ],
   "source": [
    "import functools\n",
    "\n",
    "functools.reduce(lambda a,b: a+b, df['income'])\n",
    "df['category']=df['age'].apply(lambda x: 'Adult' if x>=18 else 'Child')\n",
    "print(df)"
   ]
  },
  {
   "cell_type": "code",
   "execution_count": 39,
   "metadata": {},
   "outputs": [],
   "source": []
  },
  {
   "cell_type": "code",
   "execution_count": 40,
   "metadata": {},
   "outputs": [
    {
     "name": "stdout",
     "output_type": "stream",
     "text": [
      "   id  name  age  income category\n",
      "0   1   abc   14   29852    Child\n",
      "1   2  defg   25   26535    Adult\n",
      "2   3   ghs   36   23217    Adult\n",
      "3   4  eeee   47   19900    Adult\n",
      "4   5  wwww   58   16584    Adult\n"
     ]
    }
   ],
   "source": []
  },
  {
   "cell_type": "code",
   "execution_count": null,
   "metadata": {},
   "outputs": [],
   "source": []
  }
 ],
 "metadata": {
  "kernelspec": {
   "display_name": "Python 3",
   "language": "python",
   "name": "python3"
  },
  "language_info": {
   "codemirror_mode": {
    "name": "ipython",
    "version": 3
   },
   "file_extension": ".py",
   "mimetype": "text/x-python",
   "name": "python",
   "nbconvert_exporter": "python",
   "pygments_lexer": "ipython3",
   "version": "3.8.5"
  }
 },
 "nbformat": 4,
 "nbformat_minor": 5
}
