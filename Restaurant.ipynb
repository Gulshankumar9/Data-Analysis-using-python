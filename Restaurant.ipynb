{
 "cells": [
  {
   "cell_type": "code",
   "execution_count": 6,
   "metadata": {},
   "outputs": [
    {
     "name": "stdout",
     "output_type": "stream",
     "text": [
      "enter ur usernameGulshan\n",
      "enter ur password123456\n",
      "Username:  Gulshan\n",
      "Password 123456\n",
      "\n",
      "looking for veg or non-veg restaurants,press 1 for veg and 2 for non-veg1\n",
      "welcome to veg restaurant\n",
      "Hello Gulshan!😁\n"
     ]
    }
   ],
   "source": [
    "def login( name, pswd ):\n",
    "    print (\"Username: \", name)\n",
    "    print (\"Password\", pswd)\n",
    "    print()\n",
    "    return;\n",
    "def veg():\n",
    "    print(\"welcome to veg restaurant\")\n",
    "    print(\"Hello Gulshan!😁\")\n",
    "    return;\n",
    "def nonveg():\n",
    "    print(\"welcome to non-veg restaurant\")\n",
    "    print(\"Hello Gulshan!😁\")\n",
    "    return;\n",
    "user=input(\"enter ur username\")\n",
    "password=input(\"enter ur password\")\n",
    "login( user, password )\n",
    "choice=int(input(\"looking for veg or non-veg restaurants,\" \n",
    "                 \"press 1 for veg and 2 for non-veg\"))\n",
    "\n",
    "if choice==1:  \n",
    "    veg()  \n",
    "elif choice==2:  \n",
    "    nonveg()\n",
    "else:\n",
    "    print(\"enter either 1 or 2\")"
   ]
  },
  {
   "cell_type": "code",
   "execution_count": null,
   "metadata": {},
   "outputs": [],
   "source": []
  }
 ],
 "metadata": {
  "kernelspec": {
   "display_name": "Python 3",
   "language": "python",
   "name": "python3"
  },
  "language_info": {
   "codemirror_mode": {
    "name": "ipython",
    "version": 3
   },
   "file_extension": ".py",
   "mimetype": "text/x-python",
   "name": "python",
   "nbconvert_exporter": "python",
   "pygments_lexer": "ipython3",
   "version": "3.8.5"
  }
 },
 "nbformat": 4,
 "nbformat_minor": 5
}
