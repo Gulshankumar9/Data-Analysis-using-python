{
 "cells": [
  {
   "cell_type": "code",
   "execution_count": 5,
   "metadata": {},
   "outputs": [
    {
     "name": "stdout",
     "output_type": "stream",
     "text": [
      "          A         B         C         D\n",
      "a -0.270417 -0.243164 -0.302342  0.840218\n",
      "b -1.996409  0.422254  1.250022 -0.781856\n",
      "c -0.366392 -0.050394  0.657509  0.265551\n",
      "d -1.087623  0.997828 -0.748125 -0.735679\n",
      "e -1.146783 -1.116767  0.066335  0.318501\n",
      "f  0.462576 -0.856047  0.011840  0.054993\n",
      "g -0.037532  1.084229 -0.493545  0.853439\n",
      "h  0.504962 -0.190070 -0.006751  0.787006 \n",
      "\n",
      "a   -0.270417\n",
      "b   -1.996409\n",
      "c   -0.366392\n",
      "d   -1.087623\n",
      "e   -1.146783\n",
      "f    0.462576\n",
      "g   -0.037532\n",
      "h    0.504962\n",
      "Name: A, dtype: float64\n"
     ]
    }
   ],
   "source": [
    "import pandas as pd\n",
    "import numpy as np\n",
    "df = pd.DataFrame(np.random.randn(8, 4),\n",
    "index = ['a','b','c','d','e','f','g','h'], columns = ['A', 'B', 'C', 'D'])\n",
    "print(df.loc[:,:],\"\\n\")\n",
    "print (df.loc[:,'A'])"
   ]
  },
  {
   "cell_type": "code",
   "execution_count": 5,
   "metadata": {},
   "outputs": [
    {
     "name": "stdout",
     "output_type": "stream",
     "text": [
      "          A         C\n",
      "a -0.186798 -0.040828\n",
      "b -0.511093 -0.918260\n",
      "c -2.451806 -0.962563\n",
      "d  0.610320 -0.016680\n",
      "e -0.354539  0.550960\n",
      "f  1.847346  0.305030\n",
      "g  0.605384 -0.330821\n",
      "h  1.564142  0.600691\n"
     ]
    }
   ],
   "source": [
    "import pandas as pd\n",
    "import numpy as np\n",
    "df = pd.DataFrame(np.random.randn(8, 4),\n",
    "index = ['a','b','c','d','e','f','g','h'], columns = ['A', 'B', 'C', 'D'])\n",
    "print (df.loc[:,['A','C']])"
   ]
  },
  {
   "cell_type": "code",
   "execution_count": 6,
   "metadata": {},
   "outputs": [
    {
     "name": "stdout",
     "output_type": "stream",
     "text": [
      "          A         C\n",
      "a -1.762122  1.378627\n",
      "b  0.316079  0.895847\n",
      "f -0.327490  0.616257\n",
      "h  0.573626  0.736377\n"
     ]
    }
   ],
   "source": [
    "import pandas as pd\n",
    "import numpy as np\n",
    "df = pd.DataFrame(np.random.randn(8, 4),\n",
    "index = ['a','b','c','d','e','f','g','h'], columns = ['A', 'B', 'C', 'D'])\n",
    "print (df.loc[['a','b','f','h'],['A','C']])"
   ]
  },
  {
   "cell_type": "code",
   "execution_count": 9,
   "metadata": {},
   "outputs": [
    {
     "name": "stdout",
     "output_type": "stream",
     "text": [
      "          A         C\n",
      "a  1.167421 -0.116006\n",
      "b  1.590104  1.066115\n",
      "f -0.779035  0.983127\n",
      "h -0.092157 -0.486760\n",
      "          A         B         C         D\n",
      "a  1.167421  1.114827 -0.116006  1.376947\n",
      "b  1.590104 -0.812061  1.066115 -0.204584\n",
      "c -1.000390  0.081388  0.698904 -1.847486\n",
      "d  0.627221  0.154139  1.142882 -0.655449\n",
      "A     True\n",
      "B     True\n",
      "C    False\n",
      "D     True\n",
      "Name: a, dtype: bool\n"
     ]
    }
   ],
   "source": [
    "import pandas as pd\n",
    "import numpy as np\n",
    "df = pd.DataFrame(np.random.randn(8, 4),\n",
    "index = ['a','b','c','d','e','f','g','h'], columns = ['A', 'B', 'C', 'D'])\n",
    "print (df.loc[['a','b','f','h'],['A','C']])\n",
    "print (df.loc['a':'d'])\n",
    "print (df.loc['a']>0)"
   ]
  },
  {
   "cell_type": "code",
   "execution_count": 10,
   "metadata": {},
   "outputs": [
    {
     "name": "stdout",
     "output_type": "stream",
     "text": [
      "          A         B         C         D\n",
      "a -1.245752 -0.495460  0.706293  1.770178\n",
      "b  0.059009  0.329564  1.707307  0.083275\n",
      "c -1.344858 -2.090786 -1.289896  1.036774\n",
      "d -1.670576  1.765127 -0.259284  0.664807\n",
      "e -1.077589  1.166700  0.496885  0.883307\n",
      "f -1.172176  0.122853 -1.022873 -1.318883\n",
      "g -1.507572 -1.750927  0.616773  1.320749\n",
      "h  0.384835 -0.100205 -1.564131 -0.756418\n",
      "A    False\n",
      "B    False\n",
      "C     True\n",
      "D     True\n",
      "Name: a, dtype: bool\n"
     ]
    }
   ],
   "source": [
    "import pandas as pd\n",
    "import numpy as np\n",
    "\n",
    "df = pd.DataFrame(np.random.randn(8, 4),\n",
    "index = ['a','b','c','d','e','f','g','h'], columns = ['A', 'B', 'C', 'D'])\n",
    "print(df)\n",
    "# for getting values with a boolean array\n",
    "print (df.loc['a']>0)"
   ]
  },
  {
   "cell_type": "code",
   "execution_count": 10,
   "metadata": {},
   "outputs": [
    {
     "name": "stdout",
     "output_type": "stream",
     "text": [
      "          A         B         C         D\n",
      "0 -1.180428 -0.435685 -1.388492  0.734417\n",
      "1 -0.568652 -0.189686 -0.341814  0.490835\n",
      "2  0.880010 -0.458120  0.635107 -0.042825\n",
      "3  0.806461 -1.024532 -0.593938  0.364628\n",
      "4 -0.603075 -0.791619 -0.011174 -0.375525\n",
      "5  0.604133  0.944956 -0.035246  0.370208\n",
      "6  0.194226 -0.539336  0.137269  1.943978\n",
      "7 -0.355414 -1.016977 -0.705906 -0.381679\n",
      "          A         B         C         D\n",
      "0 -1.180428 -0.435685 -1.388492  0.734417\n",
      "1 -0.568652 -0.189686 -0.341814  0.490835\n",
      "2  0.880010 -0.458120  0.635107 -0.042825\n",
      "3  0.806461 -1.024532 -0.593938  0.364628\n"
     ]
    }
   ],
   "source": [
    "import pandas as pd\n",
    "import numpy as np\n",
    "df = pd.DataFrame(np.random.randn(8, 4), columns = ['A', 'B', 'C', 'D'])\n",
    "print(df)\n",
    "print (df.iloc[:4])\n",
    "print (df.iloc[:4])\n",
    "print (df.iloc[1:5, 2:4])"
   ]
  },
  {
   "cell_type": "code",
   "execution_count": 14,
   "metadata": {},
   "outputs": [
    {
     "name": "stdout",
     "output_type": "stream",
     "text": [
      "          A         B         C         D\n",
      "0  0.509984  0.085056 -1.428002 -0.236256\n",
      "1 -0.125085 -1.179452  0.735120  1.105785\n",
      "2 -0.901835  0.326369  0.857510 -1.047973\n",
      "3  0.332560  0.544223 -0.352246 -0.494890\n",
      "4 -0.004407 -1.611374 -0.449416  0.148149\n",
      "5  0.693416  1.744587  0.296016 -0.557533\n",
      "6 -1.759597  1.431669  0.363708 -0.906031\n",
      "7 -1.313400 -0.959148  0.686979  0.445774\n",
      "          A         B         C         D\n",
      "0  0.509984  0.085056 -1.428002 -0.236256\n",
      "1 -0.125085 -1.179452  0.735120  1.105785\n",
      "2 -0.901835  0.326369  0.857510 -1.047973\n",
      "3  0.332560  0.544223 -0.352246 -0.494890\n",
      "          C         D\n",
      "1  0.735120  1.105785\n",
      "2  0.857510 -1.047973\n",
      "3 -0.352246 -0.494890\n",
      "4 -0.449416  0.148149\n"
     ]
    }
   ],
   "source": [
    "import pandas as pd\n",
    "import numpy as np\n",
    "\n",
    "df = pd.DataFrame(np.random.randn(8, 4), columns = ['A', 'B', 'C', 'D'])\n",
    "print(df)\n",
    "# Integer slicing\n",
    "print (df.iloc[:4])\n",
    "print (df.iloc[1:5, 2:4])"
   ]
  },
  {
   "cell_type": "code",
   "execution_count": 15,
   "metadata": {},
   "outputs": [
    {
     "name": "stdout",
     "output_type": "stream",
     "text": [
      "          A         B         C         D\n",
      "0 -0.225587  0.483368  0.349420  0.072398\n",
      "1  0.553628  0.171803 -1.037541 -0.113895\n",
      "2  0.211350  0.901913  0.093944  0.043754\n",
      "3 -0.080660  2.611794 -0.266099  1.006386\n",
      "4 -0.215942  1.175347  1.909712  0.432791\n",
      "5  0.910924 -0.367758 -0.996220  0.756815\n",
      "6  0.370612 -1.271289  1.469797 -0.056764\n",
      "7 -0.331080  1.053787 -1.635907  0.683711\n",
      "          B         D\n",
      "1  0.171803 -0.113895\n",
      "3  2.611794  1.006386\n",
      "5 -0.367758  0.756815\n",
      "          A         B         C         D\n",
      "1  0.553628  0.171803 -1.037541 -0.113895\n",
      "2  0.211350  0.901913  0.093944  0.043754\n",
      "          B         C\n",
      "0  0.483368  0.349420\n",
      "1  0.171803 -1.037541\n",
      "2  0.901913  0.093944\n",
      "3  2.611794 -0.266099\n",
      "4  1.175347  1.909712\n",
      "5 -0.367758 -0.996220\n",
      "6 -1.271289  1.469797\n",
      "7  1.053787 -1.635907\n"
     ]
    }
   ],
   "source": [
    "import pandas as pd\n",
    "import numpy as np\n",
    "\n",
    "df = pd.DataFrame(np.random.randn(8, 4), columns = ['A', 'B', 'C', 'D'])\n",
    "print(df)\n",
    "# Slicing through list of values\n",
    "print (df.iloc[[1, 3, 5], [1, 3]])\n",
    "print (df.iloc[1:3, :])\n",
    "print (df.iloc[:,1:3])"
   ]
  },
  {
   "cell_type": "code",
   "execution_count": null,
   "metadata": {},
   "outputs": [],
   "source": []
  },
  {
   "cell_type": "code",
   "execution_count": null,
   "metadata": {},
   "outputs": [],
   "source": []
  }
 ],
 "metadata": {
  "kernelspec": {
   "display_name": "Python 3",
   "language": "python",
   "name": "python3"
  },
  "language_info": {
   "codemirror_mode": {
    "name": "ipython",
    "version": 3
   },
   "file_extension": ".py",
   "mimetype": "text/x-python",
   "name": "python",
   "nbconvert_exporter": "python",
   "pygments_lexer": "ipython3",
   "version": "3.8.5"
  }
 },
 "nbformat": 4,
 "nbformat_minor": 5
}
