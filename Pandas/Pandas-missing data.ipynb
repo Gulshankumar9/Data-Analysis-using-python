{
 "cells": [
  {
   "cell_type": "code",
   "execution_count": 3,
   "metadata": {},
   "outputs": [
    {
     "name": "stdout",
     "output_type": "stream",
     "text": [
      "   S.No.     Name   Eng  Maths   Sci  Total\n",
      "0      1     Ajay   NaN   56.0  77.0    133\n",
      "1      2   Rakesh  35.0   66.0  79.0    180\n",
      "2      3   Roshan  36.0    NaN  81.0    117\n",
      "3      4    Rahul  37.0   86.0  83.0    206\n",
      "4      5  Anamika  38.0   96.0   NaN    134\n",
      "5      6   Anusha  39.0    NaN  87.0    126\n",
      "6      7  Aakruti  40.0  116.0  89.0    245\n"
     ]
    }
   ],
   "source": [
    "import pandas as pd\n",
    "d=pd.read_excel(\"missing.xlsx\")\n",
    "df=pd.DataFrame(d)\n",
    "print(df)"
   ]
  },
  {
   "cell_type": "code",
   "execution_count": 4,
   "metadata": {},
   "outputs": [
    {
     "data": {
      "text/html": [
       "<div>\n",
       "<style scoped>\n",
       "    .dataframe tbody tr th:only-of-type {\n",
       "        vertical-align: middle;\n",
       "    }\n",
       "\n",
       "    .dataframe tbody tr th {\n",
       "        vertical-align: top;\n",
       "    }\n",
       "\n",
       "    .dataframe thead th {\n",
       "        text-align: right;\n",
       "    }\n",
       "</style>\n",
       "<table border=\"1\" class=\"dataframe\">\n",
       "  <thead>\n",
       "    <tr style=\"text-align: right;\">\n",
       "      <th></th>\n",
       "      <th>S.No.</th>\n",
       "      <th>Name</th>\n",
       "      <th>Eng</th>\n",
       "      <th>Maths</th>\n",
       "      <th>Sci</th>\n",
       "      <th>Total</th>\n",
       "    </tr>\n",
       "  </thead>\n",
       "  <tbody>\n",
       "    <tr>\n",
       "      <th>1</th>\n",
       "      <td>2</td>\n",
       "      <td>Rakesh</td>\n",
       "      <td>35.0</td>\n",
       "      <td>66.0</td>\n",
       "      <td>79.0</td>\n",
       "      <td>180</td>\n",
       "    </tr>\n",
       "    <tr>\n",
       "      <th>3</th>\n",
       "      <td>4</td>\n",
       "      <td>Rahul</td>\n",
       "      <td>37.0</td>\n",
       "      <td>86.0</td>\n",
       "      <td>83.0</td>\n",
       "      <td>206</td>\n",
       "    </tr>\n",
       "    <tr>\n",
       "      <th>6</th>\n",
       "      <td>7</td>\n",
       "      <td>Aakruti</td>\n",
       "      <td>40.0</td>\n",
       "      <td>116.0</td>\n",
       "      <td>89.0</td>\n",
       "      <td>245</td>\n",
       "    </tr>\n",
       "  </tbody>\n",
       "</table>\n",
       "</div>"
      ],
      "text/plain": [
       "   S.No.     Name   Eng  Maths   Sci  Total\n",
       "1      2   Rakesh  35.0   66.0  79.0    180\n",
       "3      4    Rahul  37.0   86.0  83.0    206\n",
       "6      7  Aakruti  40.0  116.0  89.0    245"
      ]
     },
     "execution_count": 4,
     "metadata": {},
     "output_type": "execute_result"
    }
   ],
   "source": [
    "df.dropna()"
   ]
  },
  {
   "cell_type": "code",
   "execution_count": 5,
   "metadata": {},
   "outputs": [
    {
     "name": "stdout",
     "output_type": "stream",
     "text": [
      "   S.No.     Name   Eng  Maths   Sci  Total\n",
      "0      1     Ajay   NaN   56.0  77.0    133\n",
      "1      2   Rakesh  35.0   66.0  79.0    180\n",
      "2      3   Roshan  36.0    NaN  81.0    117\n",
      "3      4    Rahul  37.0   86.0  83.0    206\n",
      "4      5  Anamika  38.0   96.0   NaN    134\n",
      "5      6   Anusha  39.0    NaN  87.0    126\n",
      "6      7  Aakruti  40.0  116.0  89.0    245\n"
     ]
    }
   ],
   "source": [
    "import pandas as pd\n",
    "d=pd.read_excel(\"missing.xlsx\")\n",
    "df=pd.DataFrame(d)\n",
    "print(df)\n",
    "\n"
   ]
  },
  {
   "cell_type": "code",
   "execution_count": 6,
   "metadata": {},
   "outputs": [
    {
     "data": {
      "text/plain": [
       "0       Ajay\n",
       "1     Rakesh\n",
       "2     Roshan\n",
       "3      Rahul\n",
       "4    Anamika\n",
       "5     Anusha\n",
       "6    Aakruti\n",
       "Name: Name, dtype: object"
      ]
     },
     "execution_count": 6,
     "metadata": {},
     "output_type": "execute_result"
    }
   ],
   "source": [
    "df['Name'].dropna()"
   ]
  },
  {
   "cell_type": "code",
   "execution_count": 8,
   "metadata": {},
   "outputs": [
    {
     "name": "stdout",
     "output_type": "stream",
     "text": [
      "   S.No.     Name   Eng  Maths   Sci  Total\n",
      "0      1     Ajay   NaN   56.0  77.0    133\n",
      "1      2   Rakesh  35.0   66.0  79.0    180\n",
      "2      3   Roshan  36.0    NaN  81.0    117\n",
      "3      4    Rahul  37.0   86.0  83.0    206\n",
      "4      5  Anamika  38.0   96.0   NaN    134\n",
      "5      6   Anusha  39.0    NaN  87.0    126\n",
      "6      7  Aakruti  40.0  116.0  89.0    245\n"
     ]
    }
   ],
   "source": [
    "import pandas as pd\n",
    "d=pd.read_excel(\"missing.xlsx\")\n",
    "df=pd.DataFrame(d)\n",
    "print(df)"
   ]
  },
  {
   "cell_type": "code",
   "execution_count": 9,
   "metadata": {},
   "outputs": [
    {
     "data": {
      "text/html": [
       "<div>\n",
       "<style scoped>\n",
       "    .dataframe tbody tr th:only-of-type {\n",
       "        vertical-align: middle;\n",
       "    }\n",
       "\n",
       "    .dataframe tbody tr th {\n",
       "        vertical-align: top;\n",
       "    }\n",
       "\n",
       "    .dataframe thead th {\n",
       "        text-align: right;\n",
       "    }\n",
       "</style>\n",
       "<table border=\"1\" class=\"dataframe\">\n",
       "  <thead>\n",
       "    <tr style=\"text-align: right;\">\n",
       "      <th></th>\n",
       "      <th>Name</th>\n",
       "      <th>Eng</th>\n",
       "    </tr>\n",
       "  </thead>\n",
       "  <tbody>\n",
       "    <tr>\n",
       "      <th>1</th>\n",
       "      <td>Rakesh</td>\n",
       "      <td>35.0</td>\n",
       "    </tr>\n",
       "    <tr>\n",
       "      <th>2</th>\n",
       "      <td>Roshan</td>\n",
       "      <td>36.0</td>\n",
       "    </tr>\n",
       "    <tr>\n",
       "      <th>3</th>\n",
       "      <td>Rahul</td>\n",
       "      <td>37.0</td>\n",
       "    </tr>\n",
       "    <tr>\n",
       "      <th>4</th>\n",
       "      <td>Anamika</td>\n",
       "      <td>38.0</td>\n",
       "    </tr>\n",
       "    <tr>\n",
       "      <th>5</th>\n",
       "      <td>Anusha</td>\n",
       "      <td>39.0</td>\n",
       "    </tr>\n",
       "    <tr>\n",
       "      <th>6</th>\n",
       "      <td>Aakruti</td>\n",
       "      <td>40.0</td>\n",
       "    </tr>\n",
       "  </tbody>\n",
       "</table>\n",
       "</div>"
      ],
      "text/plain": [
       "      Name   Eng\n",
       "1   Rakesh  35.0\n",
       "2   Roshan  36.0\n",
       "3    Rahul  37.0\n",
       "4  Anamika  38.0\n",
       "5   Anusha  39.0\n",
       "6  Aakruti  40.0"
      ]
     },
     "execution_count": 9,
     "metadata": {},
     "output_type": "execute_result"
    }
   ],
   "source": [
    "df.loc[:,['Name','Eng']].dropna()"
   ]
  },
  {
   "cell_type": "code",
   "execution_count": 11,
   "metadata": {},
   "outputs": [
    {
     "name": "stdout",
     "output_type": "stream",
     "text": [
      "   S.No.     Name   Eng  Maths   Sci  Total\n",
      "0      1     Ajay   NaN   56.0  77.0    133\n",
      "1      2   Rakesh  35.0   66.0  79.0    180\n",
      "2      3   Roshan  36.0    NaN  81.0    117\n",
      "3      4    Rahul  37.0   86.0  83.0    206\n",
      "4      5  Anamika  38.0   96.0   NaN    134\n",
      "5      6   Anusha  39.0    NaN  87.0    126\n",
      "6      7  Aakruti  40.0  116.0  89.0    245\n"
     ]
    }
   ],
   "source": [
    "import pandas as pd\n",
    "d=pd.read_excel(\"missing.xlsx\")\n",
    "df=pd.DataFrame(d)\n",
    "print(df)"
   ]
  },
  {
   "cell_type": "code",
   "execution_count": 12,
   "metadata": {},
   "outputs": [
    {
     "data": {
      "text/html": [
       "<div>\n",
       "<style scoped>\n",
       "    .dataframe tbody tr th:only-of-type {\n",
       "        vertical-align: middle;\n",
       "    }\n",
       "\n",
       "    .dataframe tbody tr th {\n",
       "        vertical-align: top;\n",
       "    }\n",
       "\n",
       "    .dataframe thead th {\n",
       "        text-align: right;\n",
       "    }\n",
       "</style>\n",
       "<table border=\"1\" class=\"dataframe\">\n",
       "  <thead>\n",
       "    <tr style=\"text-align: right;\">\n",
       "      <th></th>\n",
       "      <th>S.No.</th>\n",
       "      <th>Name</th>\n",
       "      <th>Eng</th>\n",
       "      <th>Maths</th>\n",
       "      <th>Sci</th>\n",
       "      <th>Total</th>\n",
       "    </tr>\n",
       "  </thead>\n",
       "  <tbody>\n",
       "    <tr>\n",
       "      <th>0</th>\n",
       "      <td>1</td>\n",
       "      <td>Ajay</td>\n",
       "      <td>*</td>\n",
       "      <td>56</td>\n",
       "      <td>77</td>\n",
       "      <td>133</td>\n",
       "    </tr>\n",
       "    <tr>\n",
       "      <th>1</th>\n",
       "      <td>2</td>\n",
       "      <td>Rakesh</td>\n",
       "      <td>35</td>\n",
       "      <td>66</td>\n",
       "      <td>79</td>\n",
       "      <td>180</td>\n",
       "    </tr>\n",
       "    <tr>\n",
       "      <th>2</th>\n",
       "      <td>3</td>\n",
       "      <td>Roshan</td>\n",
       "      <td>36</td>\n",
       "      <td>*</td>\n",
       "      <td>81</td>\n",
       "      <td>117</td>\n",
       "    </tr>\n",
       "    <tr>\n",
       "      <th>3</th>\n",
       "      <td>4</td>\n",
       "      <td>Rahul</td>\n",
       "      <td>37</td>\n",
       "      <td>86</td>\n",
       "      <td>83</td>\n",
       "      <td>206</td>\n",
       "    </tr>\n",
       "    <tr>\n",
       "      <th>4</th>\n",
       "      <td>5</td>\n",
       "      <td>Anamika</td>\n",
       "      <td>38</td>\n",
       "      <td>96</td>\n",
       "      <td>*</td>\n",
       "      <td>134</td>\n",
       "    </tr>\n",
       "    <tr>\n",
       "      <th>5</th>\n",
       "      <td>6</td>\n",
       "      <td>Anusha</td>\n",
       "      <td>39</td>\n",
       "      <td>*</td>\n",
       "      <td>87</td>\n",
       "      <td>126</td>\n",
       "    </tr>\n",
       "    <tr>\n",
       "      <th>6</th>\n",
       "      <td>7</td>\n",
       "      <td>Aakruti</td>\n",
       "      <td>40</td>\n",
       "      <td>116</td>\n",
       "      <td>89</td>\n",
       "      <td>245</td>\n",
       "    </tr>\n",
       "  </tbody>\n",
       "</table>\n",
       "</div>"
      ],
      "text/plain": [
       "   S.No.     Name Eng Maths Sci  Total\n",
       "0      1     Ajay   *    56  77    133\n",
       "1      2   Rakesh  35    66  79    180\n",
       "2      3   Roshan  36     *  81    117\n",
       "3      4    Rahul  37    86  83    206\n",
       "4      5  Anamika  38    96   *    134\n",
       "5      6   Anusha  39     *  87    126\n",
       "6      7  Aakruti  40   116  89    245"
      ]
     },
     "execution_count": 12,
     "metadata": {},
     "output_type": "execute_result"
    }
   ],
   "source": [
    "df.fillna(\"*\")\n"
   ]
  },
  {
   "cell_type": "code",
   "execution_count": 13,
   "metadata": {},
   "outputs": [
    {
     "data": {
      "text/plain": [
       "0    33.0\n",
       "1    35.0\n",
       "2    36.0\n",
       "3    37.0\n",
       "4    38.0\n",
       "5    39.0\n",
       "6    40.0\n",
       "Name: Eng, dtype: float64"
      ]
     },
     "execution_count": 13,
     "metadata": {},
     "output_type": "execute_result"
    }
   ],
   "source": [
    "df['Eng'].fillna(33)\n"
   ]
  },
  {
   "cell_type": "code",
   "execution_count": null,
   "metadata": {},
   "outputs": [],
   "source": []
  },
  {
   "cell_type": "code",
   "execution_count": null,
   "metadata": {},
   "outputs": [],
   "source": []
  }
 ],
 "metadata": {
  "kernelspec": {
   "display_name": "Python 3",
   "language": "python",
   "name": "python3"
  },
  "language_info": {
   "codemirror_mode": {
    "name": "ipython",
    "version": 3
   },
   "file_extension": ".py",
   "mimetype": "text/x-python",
   "name": "python",
   "nbconvert_exporter": "python",
   "pygments_lexer": "ipython3",
   "version": "3.8.5"
  }
 },
 "nbformat": 4,
 "nbformat_minor": 5
}
